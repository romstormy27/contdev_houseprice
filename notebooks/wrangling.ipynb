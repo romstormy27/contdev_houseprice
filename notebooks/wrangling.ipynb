{
 "cells": [
  {
   "cell_type": "markdown",
   "metadata": {},
   "source": [
    "# Import all necessary library"
   ]
  },
  {
   "cell_type": "code",
   "execution_count": 151,
   "metadata": {},
   "outputs": [],
   "source": [
    "import pandas as pd\n",
    "import numpy as np\n",
    "import matplotlib.pyplot as plt\n",
    "import seaborn as sns\n",
    "from datetime import datetime\n",
    "\n",
    "import yaml"
   ]
  },
  {
   "cell_type": "code",
   "execution_count": 152,
   "metadata": {},
   "outputs": [],
   "source": [
    "config_path = \"../config/config.yaml\"\n",
    "\n",
    "def load_config():\n",
    "\n",
    "    '''\n",
    "    this function is to load config file\n",
    "    '''\n",
    "\n",
    "    try:\n",
    "\n",
    "        with open(config_path, \"r\") as f:\n",
    "\n",
    "            config = yaml.safe_load(f)\n",
    "\n",
    "    except FileNotFoundError:\n",
    "\n",
    "        return \"Config file not found!\"\n",
    "\n",
    "    return config"
   ]
  },
  {
   "cell_type": "markdown",
   "metadata": {},
   "source": [
    "# Data Collection"
   ]
  },
  {
   "cell_type": "markdown",
   "metadata": {},
   "source": [
    "Dataset House-Price sudah terbagi menjadi set Training dan set Testing. Pada course ini, hanya digunakan set Training saja."
   ]
  },
  {
   "cell_type": "markdown",
   "metadata": {},
   "source": [
    "## Ambil alamat penyimpanan file dataset dari file config yang sudah didefinisikan"
   ]
  },
  {
   "cell_type": "code",
   "execution_count": 153,
   "metadata": {},
   "outputs": [],
   "source": [
    "# load config file that contains raw dataset path\n",
    "config = load_config()\n",
    "\n",
    "# grab raw dataset path\n",
    "raw_path = config[\"raw_dataset_path\"]"
   ]
  },
  {
   "cell_type": "markdown",
   "metadata": {},
   "source": [
    "## Load dataset"
   ]
  },
  {
   "cell_type": "code",
   "execution_count": 154,
   "metadata": {},
   "outputs": [
    {
     "data": {
      "text/html": [
       "<div>\n",
       "<style scoped>\n",
       "    .dataframe tbody tr th:only-of-type {\n",
       "        vertical-align: middle;\n",
       "    }\n",
       "\n",
       "    .dataframe tbody tr th {\n",
       "        vertical-align: top;\n",
       "    }\n",
       "\n",
       "    .dataframe thead th {\n",
       "        text-align: right;\n",
       "    }\n",
       "</style>\n",
       "<table border=\"1\" class=\"dataframe\">\n",
       "  <thead>\n",
       "    <tr style=\"text-align: right;\">\n",
       "      <th></th>\n",
       "      <th>Id</th>\n",
       "      <th>MSSubClass</th>\n",
       "      <th>MSZoning</th>\n",
       "      <th>LotFrontage</th>\n",
       "      <th>LotArea</th>\n",
       "      <th>Street</th>\n",
       "      <th>Alley</th>\n",
       "      <th>LotShape</th>\n",
       "      <th>LandContour</th>\n",
       "      <th>Utilities</th>\n",
       "      <th>...</th>\n",
       "      <th>PoolArea</th>\n",
       "      <th>PoolQC</th>\n",
       "      <th>Fence</th>\n",
       "      <th>MiscFeature</th>\n",
       "      <th>MiscVal</th>\n",
       "      <th>MoSold</th>\n",
       "      <th>YrSold</th>\n",
       "      <th>SaleType</th>\n",
       "      <th>SaleCondition</th>\n",
       "      <th>SalePrice</th>\n",
       "    </tr>\n",
       "  </thead>\n",
       "  <tbody>\n",
       "    <tr>\n",
       "      <th>0</th>\n",
       "      <td>1</td>\n",
       "      <td>60</td>\n",
       "      <td>RL</td>\n",
       "      <td>65.0</td>\n",
       "      <td>8450</td>\n",
       "      <td>Pave</td>\n",
       "      <td>NaN</td>\n",
       "      <td>Reg</td>\n",
       "      <td>Lvl</td>\n",
       "      <td>AllPub</td>\n",
       "      <td>...</td>\n",
       "      <td>0</td>\n",
       "      <td>NaN</td>\n",
       "      <td>NaN</td>\n",
       "      <td>NaN</td>\n",
       "      <td>0</td>\n",
       "      <td>2</td>\n",
       "      <td>2008</td>\n",
       "      <td>WD</td>\n",
       "      <td>Normal</td>\n",
       "      <td>208500</td>\n",
       "    </tr>\n",
       "    <tr>\n",
       "      <th>1</th>\n",
       "      <td>2</td>\n",
       "      <td>20</td>\n",
       "      <td>RL</td>\n",
       "      <td>80.0</td>\n",
       "      <td>9600</td>\n",
       "      <td>Pave</td>\n",
       "      <td>NaN</td>\n",
       "      <td>Reg</td>\n",
       "      <td>Lvl</td>\n",
       "      <td>AllPub</td>\n",
       "      <td>...</td>\n",
       "      <td>0</td>\n",
       "      <td>NaN</td>\n",
       "      <td>NaN</td>\n",
       "      <td>NaN</td>\n",
       "      <td>0</td>\n",
       "      <td>5</td>\n",
       "      <td>2007</td>\n",
       "      <td>WD</td>\n",
       "      <td>Normal</td>\n",
       "      <td>181500</td>\n",
       "    </tr>\n",
       "    <tr>\n",
       "      <th>2</th>\n",
       "      <td>3</td>\n",
       "      <td>60</td>\n",
       "      <td>RL</td>\n",
       "      <td>68.0</td>\n",
       "      <td>11250</td>\n",
       "      <td>Pave</td>\n",
       "      <td>NaN</td>\n",
       "      <td>IR1</td>\n",
       "      <td>Lvl</td>\n",
       "      <td>AllPub</td>\n",
       "      <td>...</td>\n",
       "      <td>0</td>\n",
       "      <td>NaN</td>\n",
       "      <td>NaN</td>\n",
       "      <td>NaN</td>\n",
       "      <td>0</td>\n",
       "      <td>9</td>\n",
       "      <td>2008</td>\n",
       "      <td>WD</td>\n",
       "      <td>Normal</td>\n",
       "      <td>223500</td>\n",
       "    </tr>\n",
       "    <tr>\n",
       "      <th>3</th>\n",
       "      <td>4</td>\n",
       "      <td>70</td>\n",
       "      <td>RL</td>\n",
       "      <td>60.0</td>\n",
       "      <td>9550</td>\n",
       "      <td>Pave</td>\n",
       "      <td>NaN</td>\n",
       "      <td>IR1</td>\n",
       "      <td>Lvl</td>\n",
       "      <td>AllPub</td>\n",
       "      <td>...</td>\n",
       "      <td>0</td>\n",
       "      <td>NaN</td>\n",
       "      <td>NaN</td>\n",
       "      <td>NaN</td>\n",
       "      <td>0</td>\n",
       "      <td>2</td>\n",
       "      <td>2006</td>\n",
       "      <td>WD</td>\n",
       "      <td>Abnorml</td>\n",
       "      <td>140000</td>\n",
       "    </tr>\n",
       "    <tr>\n",
       "      <th>4</th>\n",
       "      <td>5</td>\n",
       "      <td>60</td>\n",
       "      <td>RL</td>\n",
       "      <td>84.0</td>\n",
       "      <td>14260</td>\n",
       "      <td>Pave</td>\n",
       "      <td>NaN</td>\n",
       "      <td>IR1</td>\n",
       "      <td>Lvl</td>\n",
       "      <td>AllPub</td>\n",
       "      <td>...</td>\n",
       "      <td>0</td>\n",
       "      <td>NaN</td>\n",
       "      <td>NaN</td>\n",
       "      <td>NaN</td>\n",
       "      <td>0</td>\n",
       "      <td>12</td>\n",
       "      <td>2008</td>\n",
       "      <td>WD</td>\n",
       "      <td>Normal</td>\n",
       "      <td>250000</td>\n",
       "    </tr>\n",
       "    <tr>\n",
       "      <th>5</th>\n",
       "      <td>6</td>\n",
       "      <td>50</td>\n",
       "      <td>RL</td>\n",
       "      <td>85.0</td>\n",
       "      <td>14115</td>\n",
       "      <td>Pave</td>\n",
       "      <td>NaN</td>\n",
       "      <td>IR1</td>\n",
       "      <td>Lvl</td>\n",
       "      <td>AllPub</td>\n",
       "      <td>...</td>\n",
       "      <td>0</td>\n",
       "      <td>NaN</td>\n",
       "      <td>MnPrv</td>\n",
       "      <td>Shed</td>\n",
       "      <td>700</td>\n",
       "      <td>10</td>\n",
       "      <td>2009</td>\n",
       "      <td>WD</td>\n",
       "      <td>Normal</td>\n",
       "      <td>143000</td>\n",
       "    </tr>\n",
       "    <tr>\n",
       "      <th>6</th>\n",
       "      <td>7</td>\n",
       "      <td>20</td>\n",
       "      <td>RL</td>\n",
       "      <td>75.0</td>\n",
       "      <td>10084</td>\n",
       "      <td>Pave</td>\n",
       "      <td>NaN</td>\n",
       "      <td>Reg</td>\n",
       "      <td>Lvl</td>\n",
       "      <td>AllPub</td>\n",
       "      <td>...</td>\n",
       "      <td>0</td>\n",
       "      <td>NaN</td>\n",
       "      <td>NaN</td>\n",
       "      <td>NaN</td>\n",
       "      <td>0</td>\n",
       "      <td>8</td>\n",
       "      <td>2007</td>\n",
       "      <td>WD</td>\n",
       "      <td>Normal</td>\n",
       "      <td>307000</td>\n",
       "    </tr>\n",
       "    <tr>\n",
       "      <th>7</th>\n",
       "      <td>8</td>\n",
       "      <td>60</td>\n",
       "      <td>RL</td>\n",
       "      <td>NaN</td>\n",
       "      <td>10382</td>\n",
       "      <td>Pave</td>\n",
       "      <td>NaN</td>\n",
       "      <td>IR1</td>\n",
       "      <td>Lvl</td>\n",
       "      <td>AllPub</td>\n",
       "      <td>...</td>\n",
       "      <td>0</td>\n",
       "      <td>NaN</td>\n",
       "      <td>NaN</td>\n",
       "      <td>Shed</td>\n",
       "      <td>350</td>\n",
       "      <td>11</td>\n",
       "      <td>2009</td>\n",
       "      <td>WD</td>\n",
       "      <td>Normal</td>\n",
       "      <td>200000</td>\n",
       "    </tr>\n",
       "    <tr>\n",
       "      <th>8</th>\n",
       "      <td>9</td>\n",
       "      <td>50</td>\n",
       "      <td>RM</td>\n",
       "      <td>51.0</td>\n",
       "      <td>6120</td>\n",
       "      <td>Pave</td>\n",
       "      <td>NaN</td>\n",
       "      <td>Reg</td>\n",
       "      <td>Lvl</td>\n",
       "      <td>AllPub</td>\n",
       "      <td>...</td>\n",
       "      <td>0</td>\n",
       "      <td>NaN</td>\n",
       "      <td>NaN</td>\n",
       "      <td>NaN</td>\n",
       "      <td>0</td>\n",
       "      <td>4</td>\n",
       "      <td>2008</td>\n",
       "      <td>WD</td>\n",
       "      <td>Abnorml</td>\n",
       "      <td>129900</td>\n",
       "    </tr>\n",
       "    <tr>\n",
       "      <th>9</th>\n",
       "      <td>10</td>\n",
       "      <td>190</td>\n",
       "      <td>RL</td>\n",
       "      <td>50.0</td>\n",
       "      <td>7420</td>\n",
       "      <td>Pave</td>\n",
       "      <td>NaN</td>\n",
       "      <td>Reg</td>\n",
       "      <td>Lvl</td>\n",
       "      <td>AllPub</td>\n",
       "      <td>...</td>\n",
       "      <td>0</td>\n",
       "      <td>NaN</td>\n",
       "      <td>NaN</td>\n",
       "      <td>NaN</td>\n",
       "      <td>0</td>\n",
       "      <td>1</td>\n",
       "      <td>2008</td>\n",
       "      <td>WD</td>\n",
       "      <td>Normal</td>\n",
       "      <td>118000</td>\n",
       "    </tr>\n",
       "  </tbody>\n",
       "</table>\n",
       "<p>10 rows × 81 columns</p>\n",
       "</div>"
      ],
      "text/plain": [
       "   Id  MSSubClass MSZoning  LotFrontage  LotArea Street Alley LotShape  \\\n",
       "0   1          60       RL         65.0     8450   Pave   NaN      Reg   \n",
       "1   2          20       RL         80.0     9600   Pave   NaN      Reg   \n",
       "2   3          60       RL         68.0    11250   Pave   NaN      IR1   \n",
       "3   4          70       RL         60.0     9550   Pave   NaN      IR1   \n",
       "4   5          60       RL         84.0    14260   Pave   NaN      IR1   \n",
       "5   6          50       RL         85.0    14115   Pave   NaN      IR1   \n",
       "6   7          20       RL         75.0    10084   Pave   NaN      Reg   \n",
       "7   8          60       RL          NaN    10382   Pave   NaN      IR1   \n",
       "8   9          50       RM         51.0     6120   Pave   NaN      Reg   \n",
       "9  10         190       RL         50.0     7420   Pave   NaN      Reg   \n",
       "\n",
       "  LandContour Utilities  ... PoolArea PoolQC  Fence MiscFeature MiscVal  \\\n",
       "0         Lvl    AllPub  ...        0    NaN    NaN         NaN       0   \n",
       "1         Lvl    AllPub  ...        0    NaN    NaN         NaN       0   \n",
       "2         Lvl    AllPub  ...        0    NaN    NaN         NaN       0   \n",
       "3         Lvl    AllPub  ...        0    NaN    NaN         NaN       0   \n",
       "4         Lvl    AllPub  ...        0    NaN    NaN         NaN       0   \n",
       "5         Lvl    AllPub  ...        0    NaN  MnPrv        Shed     700   \n",
       "6         Lvl    AllPub  ...        0    NaN    NaN         NaN       0   \n",
       "7         Lvl    AllPub  ...        0    NaN    NaN        Shed     350   \n",
       "8         Lvl    AllPub  ...        0    NaN    NaN         NaN       0   \n",
       "9         Lvl    AllPub  ...        0    NaN    NaN         NaN       0   \n",
       "\n",
       "  MoSold YrSold  SaleType  SaleCondition  SalePrice  \n",
       "0      2   2008        WD         Normal     208500  \n",
       "1      5   2007        WD         Normal     181500  \n",
       "2      9   2008        WD         Normal     223500  \n",
       "3      2   2006        WD        Abnorml     140000  \n",
       "4     12   2008        WD         Normal     250000  \n",
       "5     10   2009        WD         Normal     143000  \n",
       "6      8   2007        WD         Normal     307000  \n",
       "7     11   2009        WD         Normal     200000  \n",
       "8      4   2008        WD        Abnorml     129900  \n",
       "9      1   2008        WD         Normal     118000  \n",
       "\n",
       "[10 rows x 81 columns]"
      ]
     },
     "execution_count": 154,
     "metadata": {},
     "output_type": "execute_result"
    }
   ],
   "source": [
    "# remember this dataset is alrady splitted. we only load the train set\n",
    "train = pd.read_csv(raw_path)\n",
    "\n",
    "# print header of dataframe\n",
    "train.head(10)"
   ]
  },
  {
   "cell_type": "markdown",
   "metadata": {},
   "source": [
    "# Data Exploration and Handling"
   ]
  },
  {
   "cell_type": "markdown",
   "metadata": {},
   "source": [
    "## Data type"
   ]
  },
  {
   "cell_type": "code",
   "execution_count": 155,
   "metadata": {},
   "outputs": [
    {
     "name": "stdout",
     "output_type": "stream",
     "text": [
      "<class 'pandas.core.frame.DataFrame'>\n",
      "RangeIndex: 1460 entries, 0 to 1459\n",
      "Data columns (total 81 columns):\n",
      " #   Column         Non-Null Count  Dtype  \n",
      "---  ------         --------------  -----  \n",
      " 0   Id             1460 non-null   int64  \n",
      " 1   MSSubClass     1460 non-null   int64  \n",
      " 2   MSZoning       1460 non-null   object \n",
      " 3   LotFrontage    1201 non-null   float64\n",
      " 4   LotArea        1460 non-null   int64  \n",
      " 5   Street         1460 non-null   object \n",
      " 6   Alley          91 non-null     object \n",
      " 7   LotShape       1460 non-null   object \n",
      " 8   LandContour    1460 non-null   object \n",
      " 9   Utilities      1460 non-null   object \n",
      " 10  LotConfig      1460 non-null   object \n",
      " 11  LandSlope      1460 non-null   object \n",
      " 12  Neighborhood   1460 non-null   object \n",
      " 13  Condition1     1460 non-null   object \n",
      " 14  Condition2     1460 non-null   object \n",
      " 15  BldgType       1460 non-null   object \n",
      " 16  HouseStyle     1460 non-null   object \n",
      " 17  OverallQual    1460 non-null   int64  \n",
      " 18  OverallCond    1460 non-null   int64  \n",
      " 19  YearBuilt      1460 non-null   int64  \n",
      " 20  YearRemodAdd   1460 non-null   int64  \n",
      " 21  RoofStyle      1460 non-null   object \n",
      " 22  RoofMatl       1460 non-null   object \n",
      " 23  Exterior1st    1460 non-null   object \n",
      " 24  Exterior2nd    1460 non-null   object \n",
      " 25  MasVnrType     1452 non-null   object \n",
      " 26  MasVnrArea     1452 non-null   float64\n",
      " 27  ExterQual      1460 non-null   object \n",
      " 28  ExterCond      1460 non-null   object \n",
      " 29  Foundation     1460 non-null   object \n",
      " 30  BsmtQual       1423 non-null   object \n",
      " 31  BsmtCond       1423 non-null   object \n",
      " 32  BsmtExposure   1422 non-null   object \n",
      " 33  BsmtFinType1   1423 non-null   object \n",
      " 34  BsmtFinSF1     1460 non-null   int64  \n",
      " 35  BsmtFinType2   1422 non-null   object \n",
      " 36  BsmtFinSF2     1460 non-null   int64  \n",
      " 37  BsmtUnfSF      1460 non-null   int64  \n",
      " 38  TotalBsmtSF    1460 non-null   int64  \n",
      " 39  Heating        1460 non-null   object \n",
      " 40  HeatingQC      1460 non-null   object \n",
      " 41  CentralAir     1460 non-null   object \n",
      " 42  Electrical     1459 non-null   object \n",
      " 43  1stFlrSF       1460 non-null   int64  \n",
      " 44  2ndFlrSF       1460 non-null   int64  \n",
      " 45  LowQualFinSF   1460 non-null   int64  \n",
      " 46  GrLivArea      1460 non-null   int64  \n",
      " 47  BsmtFullBath   1460 non-null   int64  \n",
      " 48  BsmtHalfBath   1460 non-null   int64  \n",
      " 49  FullBath       1460 non-null   int64  \n",
      " 50  HalfBath       1460 non-null   int64  \n",
      " 51  BedroomAbvGr   1460 non-null   int64  \n",
      " 52  KitchenAbvGr   1460 non-null   int64  \n",
      " 53  KitchenQual    1460 non-null   object \n",
      " 54  TotRmsAbvGrd   1460 non-null   int64  \n",
      " 55  Functional     1460 non-null   object \n",
      " 56  Fireplaces     1460 non-null   int64  \n",
      " 57  FireplaceQu    770 non-null    object \n",
      " 58  GarageType     1379 non-null   object \n",
      " 59  GarageYrBlt    1379 non-null   float64\n",
      " 60  GarageFinish   1379 non-null   object \n",
      " 61  GarageCars     1460 non-null   int64  \n",
      " 62  GarageArea     1460 non-null   int64  \n",
      " 63  GarageQual     1379 non-null   object \n",
      " 64  GarageCond     1379 non-null   object \n",
      " 65  PavedDrive     1460 non-null   object \n",
      " 66  WoodDeckSF     1460 non-null   int64  \n",
      " 67  OpenPorchSF    1460 non-null   int64  \n",
      " 68  EnclosedPorch  1460 non-null   int64  \n",
      " 69  3SsnPorch      1460 non-null   int64  \n",
      " 70  ScreenPorch    1460 non-null   int64  \n",
      " 71  PoolArea       1460 non-null   int64  \n",
      " 72  PoolQC         7 non-null      object \n",
      " 73  Fence          281 non-null    object \n",
      " 74  MiscFeature    54 non-null     object \n",
      " 75  MiscVal        1460 non-null   int64  \n",
      " 76  MoSold         1460 non-null   int64  \n",
      " 77  YrSold         1460 non-null   int64  \n",
      " 78  SaleType       1460 non-null   object \n",
      " 79  SaleCondition  1460 non-null   object \n",
      " 80  SalePrice      1460 non-null   int64  \n",
      "dtypes: float64(3), int64(35), object(43)\n",
      "memory usage: 924.0+ KB\n"
     ]
    }
   ],
   "source": [
    "train.info()"
   ]
  },
  {
   "cell_type": "markdown",
   "metadata": {},
   "source": [
    "combining information from the data definition, we can group all columns by their data type"
   ]
  },
  {
   "cell_type": "code",
   "execution_count": 182,
   "metadata": {},
   "outputs": [],
   "source": [
    "# int64 columns\n",
    "int_columns = [\"OverallQual\", \"OverallCond\", \"BsmtFullBath\", \"BsmtHalfBath\", \n",
    "\"FullBath\", \"HalfBath\", \"BedroomAbvGr\", \"KitchenAbvGr\", \"TotRmsAbvGrd\", \"Fireplaces\", \"GarageCars\", \"SalePrice\"]\n",
    "\n",
    "# datetime columns\n",
    "datetime_columns = [\"YearBuilt\", \"YearRemodAdd\", \"GarageYrBlt\", \"MoSold\", \"YrSold\"]\n",
    "# the fact is columns only contain year or month, we can treat this as integer later\n",
    "\n",
    "# float64 columns\n",
    "float_columns = [\"LotFrontage\", \"LotArea\", \"MasVnrArea\", \"BsmtFinSF1\",\n",
    "\"BsmtFinSF2\", \"BsmtUnfSF\", \"TotalBsmtSF\", \"1stFlrSF\", \"2ndFlrSF\", \"LowQualFinSF\",\n",
    "\"GrLivArea\", \"GarageArea\", \"WoodDeckSF\", \"OpenPorchSF\", \"EnclosedPorch\", \n",
    "\"3SsnPorch\", \"ScreenPorch\", \"PoolArea\", \"MiscVal\"]\n",
    "\n",
    "# ordinal columns (dtype is equal to object/categoric, but these are actually ordinal features)\n",
    "ordinal_columns = [\"BsmtQual\", \"BsmtCond\", \"BsmtExposure\", \"BsmtFinType1\",\n",
    "\"BsmtFinType2\", \"HeatingQC\", \"CentralAir\", \"KitchenQual\", \"GarageFinish\",\n",
    "\"GarageQual\", \"GarageCond\", \"PavedDrive\", \"PoolQC\", \"Fence\", \"\"]\n",
    "\n",
    "# categorical columns\n",
    "obj_columns = [\"MSSubClass\", \"MSZoning\", \"Alley\", \"LotShape\", \"LandContour\",\n",
    "\"Utilities\", \"LotConfig\", \"LandSlope\", \"Neighborhood\", \"Condition1\", \n",
    "\"Condition2\", \"BldgType\", \"HouseStyle\", \"OverallQual\", \"RoofStyle\",\n",
    "\"RoofMatl\", \"Exterior1st\", \"Exterior2nd\", \"MasVnrType\", \"ExterQual\",\n",
    "\"ExterCond\", \"Foundation\", \"Heating\", \"Electrical\", \"Functional\", \"FireplaceQu\", \n",
    "\"GarageType\", \"MiscFeature\", \"SaleType\", \"SaleCondition\"]\n",
    "\n",
    "# target column\n",
    "target_column = [\"SalePrice\"]"
   ]
  },
  {
   "cell_type": "markdown",
   "metadata": {},
   "source": [
    "note that datetime_columns only contain year and month separately. We can treat this as int column"
   ]
  },
  {
   "cell_type": "markdown",
   "metadata": {},
   "source": [
    "## Missing Value"
   ]
  },
  {
   "cell_type": "markdown",
   "metadata": {},
   "source": [
    "### Check Missing Value"
   ]
  },
  {
   "cell_type": "code",
   "execution_count": 157,
   "metadata": {},
   "outputs": [
    {
     "data": {
      "text/html": [
       "<div>\n",
       "<style scoped>\n",
       "    .dataframe tbody tr th:only-of-type {\n",
       "        vertical-align: middle;\n",
       "    }\n",
       "\n",
       "    .dataframe tbody tr th {\n",
       "        vertical-align: top;\n",
       "    }\n",
       "\n",
       "    .dataframe thead th {\n",
       "        text-align: right;\n",
       "    }\n",
       "</style>\n",
       "<table border=\"1\" class=\"dataframe\">\n",
       "  <thead>\n",
       "    <tr style=\"text-align: right;\">\n",
       "      <th></th>\n",
       "      <th>NaN_count</th>\n",
       "      <th>NaN_percentage</th>\n",
       "    </tr>\n",
       "  </thead>\n",
       "  <tbody>\n",
       "    <tr>\n",
       "      <th>PoolQC</th>\n",
       "      <td>1453</td>\n",
       "      <td>0.995205</td>\n",
       "    </tr>\n",
       "    <tr>\n",
       "      <th>MiscFeature</th>\n",
       "      <td>1406</td>\n",
       "      <td>0.963014</td>\n",
       "    </tr>\n",
       "    <tr>\n",
       "      <th>Alley</th>\n",
       "      <td>1369</td>\n",
       "      <td>0.937671</td>\n",
       "    </tr>\n",
       "    <tr>\n",
       "      <th>Fence</th>\n",
       "      <td>1179</td>\n",
       "      <td>0.807534</td>\n",
       "    </tr>\n",
       "    <tr>\n",
       "      <th>FireplaceQu</th>\n",
       "      <td>690</td>\n",
       "      <td>0.472603</td>\n",
       "    </tr>\n",
       "    <tr>\n",
       "      <th>LotFrontage</th>\n",
       "      <td>259</td>\n",
       "      <td>0.177397</td>\n",
       "    </tr>\n",
       "    <tr>\n",
       "      <th>GarageType</th>\n",
       "      <td>81</td>\n",
       "      <td>0.055479</td>\n",
       "    </tr>\n",
       "    <tr>\n",
       "      <th>GarageYrBlt</th>\n",
       "      <td>81</td>\n",
       "      <td>0.055479</td>\n",
       "    </tr>\n",
       "    <tr>\n",
       "      <th>GarageFinish</th>\n",
       "      <td>81</td>\n",
       "      <td>0.055479</td>\n",
       "    </tr>\n",
       "    <tr>\n",
       "      <th>GarageQual</th>\n",
       "      <td>81</td>\n",
       "      <td>0.055479</td>\n",
       "    </tr>\n",
       "    <tr>\n",
       "      <th>GarageCond</th>\n",
       "      <td>81</td>\n",
       "      <td>0.055479</td>\n",
       "    </tr>\n",
       "    <tr>\n",
       "      <th>BsmtExposure</th>\n",
       "      <td>38</td>\n",
       "      <td>0.026027</td>\n",
       "    </tr>\n",
       "    <tr>\n",
       "      <th>BsmtFinType2</th>\n",
       "      <td>38</td>\n",
       "      <td>0.026027</td>\n",
       "    </tr>\n",
       "    <tr>\n",
       "      <th>BsmtFinType1</th>\n",
       "      <td>37</td>\n",
       "      <td>0.025342</td>\n",
       "    </tr>\n",
       "    <tr>\n",
       "      <th>BsmtCond</th>\n",
       "      <td>37</td>\n",
       "      <td>0.025342</td>\n",
       "    </tr>\n",
       "    <tr>\n",
       "      <th>BsmtQual</th>\n",
       "      <td>37</td>\n",
       "      <td>0.025342</td>\n",
       "    </tr>\n",
       "    <tr>\n",
       "      <th>MasVnrArea</th>\n",
       "      <td>8</td>\n",
       "      <td>0.005479</td>\n",
       "    </tr>\n",
       "    <tr>\n",
       "      <th>MasVnrType</th>\n",
       "      <td>8</td>\n",
       "      <td>0.005479</td>\n",
       "    </tr>\n",
       "    <tr>\n",
       "      <th>Electrical</th>\n",
       "      <td>1</td>\n",
       "      <td>0.000685</td>\n",
       "    </tr>\n",
       "  </tbody>\n",
       "</table>\n",
       "</div>"
      ],
      "text/plain": [
       "              NaN_count  NaN_percentage\n",
       "PoolQC             1453        0.995205\n",
       "MiscFeature        1406        0.963014\n",
       "Alley              1369        0.937671\n",
       "Fence              1179        0.807534\n",
       "FireplaceQu         690        0.472603\n",
       "LotFrontage         259        0.177397\n",
       "GarageType           81        0.055479\n",
       "GarageYrBlt          81        0.055479\n",
       "GarageFinish         81        0.055479\n",
       "GarageQual           81        0.055479\n",
       "GarageCond           81        0.055479\n",
       "BsmtExposure         38        0.026027\n",
       "BsmtFinType2         38        0.026027\n",
       "BsmtFinType1         37        0.025342\n",
       "BsmtCond             37        0.025342\n",
       "BsmtQual             37        0.025342\n",
       "MasVnrArea            8        0.005479\n",
       "MasVnrType            8        0.005479\n",
       "Electrical            1        0.000685"
      ]
     },
     "execution_count": 157,
     "metadata": {},
     "output_type": "execute_result"
    }
   ],
   "source": [
    "# sum all missing value in dataset and keep only columns with missing value > 0\n",
    "missing = train.isnull().sum()[train.isnull().sum() > 0]\n",
    "\n",
    "# construct a dataframe consists of NaN count and NaN percentage from the dataset\n",
    "missing_train = pd.DataFrame({'NaN_count': missing, 'NaN_percentage': missing / len(train)}).sort_values(by = 'NaN_percentage', ascending = False)\n",
    "\n",
    "# print the missing value information\n",
    "missing_train"
   ]
  },
  {
   "cell_type": "markdown",
   "metadata": {},
   "source": [
    "Berdasarkan sumber data asli (baca: [house_price_source](https://www.kaggle.com/competitions/house-prices-advanced-regression-techniques/data)), setiap kolom pada data telah didefinisikan. Sehingga, berdasarkan definisi tersebut, terdapat beberapa kolom yang nilai NA (*missing value*) sebenarnya bukan *missing value* melainkan memiliki arti **Tidak ada** (selanjutnya disebut *legit NA*)"
   ]
  },
  {
   "cell_type": "markdown",
   "metadata": {},
   "source": [
    "Berdasarkan sumber tersebut, informasi terkait NA yang dikumpulkan adalah sebagai berikut:\n",
    "\n",
    "* NA value in \"PoolQC\" column means **no pool**. It doesn't mean **missing value**\n",
    "\n",
    "* NA value in \"MiscFeature\" column means **no additional house feature**. It doesn't mean **missing value**\n",
    "\n",
    "* NA value in \"Alley\" column means **no alley connected to house**. It doesn't mean **missing value**\n",
    "\n",
    "* NA value in \"Fence\" column means **the house has no fence**. It doesn't mean **missing value**\n",
    "\n",
    "* NA value in \"Fireplaces\" column means **the house has no fireplace**. It doesn't mean **missing value**\n",
    "\n",
    "* NA value in \"FireplaceQu\" column means **No Fire Place**. It doesn't mean **missing value**\n",
    "\n",
    "* no explanation about NA value for \"LotFrontage\". Thus, we enact this as **missing value**\n",
    "\n",
    "* NA value in \"GarageType\" column means **the house has no garage**. It doesn't mean **missing value**\n",
    "\n",
    "* since the house with **no garage** would also has no information about \"GarageFinish\", \"GarageYrBlt, \"GarageQual\", and \"GarageCond\", the NA value should not considered as **missing value**.\n",
    "\n",
    "* NA value in \"BsmtQual\", \"BsmtFinType2\", \"BsmtinType1\", \"BsmtCond\", and \"BsmtExposure\" columns means **the house has no garage**. It doesn't mean **missing value**.\n",
    "\n",
    "* NA value in \"MasVnrType\" and \"VasVnrArea\" columns means **the house has no masonry veneer**. It doesn't mean **missing value**\n",
    "\n",
    "* no explanation about NA value for \"Electrical\". Thus, we enact this as **missing value**"
   ]
  },
  {
   "cell_type": "markdown",
   "metadata": {},
   "source": [
    "sehingga, penanganan nilai NA pada kolom *legit NA* akan berbeda dengan kolom NA *missing value*"
   ]
  },
  {
   "cell_type": "markdown",
   "metadata": {},
   "source": [
    "### Missing Value Handling"
   ]
  },
  {
   "cell_type": "markdown",
   "metadata": {},
   "source": [
    "berdasarkan informasi di atas, ambil kolom-kolim *legit NA* agar dapat ditangani"
   ]
  },
  {
   "cell_type": "code",
   "execution_count": 158,
   "metadata": {},
   "outputs": [
    {
     "name": "stdout",
     "output_type": "stream",
     "text": [
      "number of columns with legit NA values: 18\n"
     ]
    }
   ],
   "source": [
    "# specify columns with legit na values\n",
    "legit_na_values_columns = [\"MasVnrArea\", \"MasVnrType\", \"BsmtExposure\", \"BsmtCond\", \"BsmtFinType1\", \n",
    "                          \"BsmtFinType2\", \"BsmtQual\", \"GarageCond\", \"GarageQual\", \n",
    "                          \"GarageFinish\", \"GarageType\", \"Fireplaces\", \"Fence\", \"Alley\", \"MiscFeature\", \n",
    "                          \"PoolQC\", \"GarageYrBlt\", \"FireplaceQu\"]\n",
    "\n",
    "# print how many columns with legit na values\n",
    "print(f'number of columns with legit NA values: {len(legit_na_values_columns)}')"
   ]
  },
  {
   "cell_type": "markdown",
   "metadata": {},
   "source": [
    "untuk mengetahui metode penanganan yang tepat, kita harus memisahkan kolom dengan tipe data numerik dan tipe data kategorik"
   ]
  },
  {
   "cell_type": "code",
   "execution_count": 159,
   "metadata": {},
   "outputs": [
    {
     "name": "stdout",
     "output_type": "stream",
     "text": [
      "number of numeric columns with legit NA values: 3\n"
     ]
    }
   ],
   "source": [
    "# specify columns with numeric dtype\n",
    "num_legit_na = [i for i in train[legit_na_values_columns].columns if train[i].dtype in [\"int\", \"float\"]]\n",
    "\n",
    "# print how many columns with legit na values (numeric)\n",
    "print(f'number of numeric columns with legit NA values: {len(num_legit_na)}')"
   ]
  },
  {
   "cell_type": "code",
   "execution_count": 160,
   "metadata": {},
   "outputs": [
    {
     "name": "stdout",
     "output_type": "stream",
     "text": [
      "number of categorical columns with legit NA values: 15\n"
     ]
    }
   ],
   "source": [
    "# specify columns with categoric dtype\n",
    "cat_legit_na = [i for i in train[legit_na_values_columns].columns if train[i].dtype==\"object\"]\n",
    "\n",
    "# print how many columns with legit na values (numeric)\n",
    "print(f'number of categorical columns with legit NA values: {len(cat_legit_na)}')"
   ]
  },
  {
   "cell_type": "markdown",
   "metadata": {},
   "source": [
    "untuk mencegah terjadi sesuatu yang tidak diingingkan, backup dataset asli"
   ]
  },
  {
   "cell_type": "code",
   "execution_count": 161,
   "metadata": {},
   "outputs": [],
   "source": [
    "# copy the initial dataset to backup if any incident happens\n",
    "train_handled = train.copy()"
   ]
  },
  {
   "cell_type": "markdown",
   "metadata": {},
   "source": [
    "#### Handling NA values in numeric columns by imputing 0"
   ]
  },
  {
   "cell_type": "code",
   "execution_count": 162,
   "metadata": {},
   "outputs": [],
   "source": [
    "# we know that GarageYrBlt is of type datetime, best way to handle it is by removing it.\n",
    "num_legit_na.remove(\"GarageYrBlt\")"
   ]
  },
  {
   "cell_type": "code",
   "execution_count": 163,
   "metadata": {},
   "outputs": [],
   "source": [
    "# handle missing value in datetime column by removing it\n",
    "train_handled.dropna(subset=[\"GarageYrBlt\"], inplace=True)"
   ]
  },
  {
   "cell_type": "code",
   "execution_count": 164,
   "metadata": {},
   "outputs": [],
   "source": [
    "# fill all legit na values in numeric columns with 0\n",
    "\n",
    "train_handled[num_legit_na] = train_handled[num_legit_na].fillna(0)"
   ]
  },
  {
   "cell_type": "code",
   "execution_count": 165,
   "metadata": {},
   "outputs": [
    {
     "data": {
      "text/plain": [
       "MasVnrArea    0\n",
       "Fireplaces    0\n",
       "dtype: int64"
      ]
     },
     "execution_count": 165,
     "metadata": {},
     "output_type": "execute_result"
    }
   ],
   "source": [
    "# check the filling result\n",
    "\n",
    "train_handled[num_legit_na].isna().sum()"
   ]
  },
  {
   "cell_type": "code",
   "execution_count": 166,
   "metadata": {},
   "outputs": [
    {
     "data": {
      "text/plain": [
       "0"
      ]
     },
     "execution_count": 166,
     "metadata": {},
     "output_type": "execute_result"
    }
   ],
   "source": [
    "# check na dropping\n",
    "train_handled[\"GarageYrBlt\"].isna().sum()"
   ]
  },
  {
   "cell_type": "markdown",
   "metadata": {},
   "source": [
    "**Na values replacement is successfully!**"
   ]
  },
  {
   "cell_type": "markdown",
   "metadata": {},
   "source": [
    "#### Handling NA values in categoric columns by imputing \"not_exist\""
   ]
  },
  {
   "cell_type": "code",
   "execution_count": 167,
   "metadata": {},
   "outputs": [],
   "source": [
    "# fill legit na values in cat columns with value \"not_exist\"\n",
    "\n",
    "train_handled[cat_legit_na] = train_handled[cat_legit_na].fillna(\"not_exist\")"
   ]
  },
  {
   "cell_type": "code",
   "execution_count": 168,
   "metadata": {},
   "outputs": [
    {
     "data": {
      "text/plain": [
       "MasVnrType      0\n",
       "BsmtExposure    0\n",
       "BsmtCond        0\n",
       "BsmtFinType1    0\n",
       "BsmtFinType2    0\n",
       "BsmtQual        0\n",
       "GarageCond      0\n",
       "GarageQual      0\n",
       "GarageFinish    0\n",
       "GarageType      0\n",
       "Fence           0\n",
       "Alley           0\n",
       "MiscFeature     0\n",
       "PoolQC          0\n",
       "FireplaceQu     0\n",
       "dtype: int64"
      ]
     },
     "execution_count": 168,
     "metadata": {},
     "output_type": "execute_result"
    }
   ],
   "source": [
    "# check the filling result\n",
    "\n",
    "train_handled[cat_legit_na].isna().sum()"
   ]
  },
  {
   "cell_type": "markdown",
   "metadata": {},
   "source": [
    "**NA Values replacement successfully!**"
   ]
  },
  {
   "cell_type": "markdown",
   "metadata": {},
   "source": [
    "#### merge handled NA values dataframe with original one"
   ]
  },
  {
   "cell_type": "code",
   "execution_count": 169,
   "metadata": {},
   "outputs": [
    {
     "data": {
      "text/html": [
       "<div>\n",
       "<style scoped>\n",
       "    .dataframe tbody tr th:only-of-type {\n",
       "        vertical-align: middle;\n",
       "    }\n",
       "\n",
       "    .dataframe tbody tr th {\n",
       "        vertical-align: top;\n",
       "    }\n",
       "\n",
       "    .dataframe thead th {\n",
       "        text-align: right;\n",
       "    }\n",
       "</style>\n",
       "<table border=\"1\" class=\"dataframe\">\n",
       "  <thead>\n",
       "    <tr style=\"text-align: right;\">\n",
       "      <th></th>\n",
       "      <th>Id</th>\n",
       "      <th>MSSubClass</th>\n",
       "      <th>MSZoning</th>\n",
       "      <th>LotFrontage</th>\n",
       "      <th>LotArea</th>\n",
       "      <th>Street</th>\n",
       "      <th>Alley</th>\n",
       "      <th>LotShape</th>\n",
       "      <th>LandContour</th>\n",
       "      <th>Utilities</th>\n",
       "      <th>...</th>\n",
       "      <th>PoolArea</th>\n",
       "      <th>PoolQC</th>\n",
       "      <th>Fence</th>\n",
       "      <th>MiscFeature</th>\n",
       "      <th>MiscVal</th>\n",
       "      <th>MoSold</th>\n",
       "      <th>YrSold</th>\n",
       "      <th>SaleType</th>\n",
       "      <th>SaleCondition</th>\n",
       "      <th>SalePrice</th>\n",
       "    </tr>\n",
       "  </thead>\n",
       "  <tbody>\n",
       "    <tr>\n",
       "      <th>0</th>\n",
       "      <td>1</td>\n",
       "      <td>60</td>\n",
       "      <td>RL</td>\n",
       "      <td>65.0</td>\n",
       "      <td>8450</td>\n",
       "      <td>Pave</td>\n",
       "      <td>not_exist</td>\n",
       "      <td>Reg</td>\n",
       "      <td>Lvl</td>\n",
       "      <td>AllPub</td>\n",
       "      <td>...</td>\n",
       "      <td>0</td>\n",
       "      <td>not_exist</td>\n",
       "      <td>not_exist</td>\n",
       "      <td>not_exist</td>\n",
       "      <td>0</td>\n",
       "      <td>2</td>\n",
       "      <td>2008</td>\n",
       "      <td>WD</td>\n",
       "      <td>Normal</td>\n",
       "      <td>208500</td>\n",
       "    </tr>\n",
       "    <tr>\n",
       "      <th>1</th>\n",
       "      <td>2</td>\n",
       "      <td>20</td>\n",
       "      <td>RL</td>\n",
       "      <td>80.0</td>\n",
       "      <td>9600</td>\n",
       "      <td>Pave</td>\n",
       "      <td>not_exist</td>\n",
       "      <td>Reg</td>\n",
       "      <td>Lvl</td>\n",
       "      <td>AllPub</td>\n",
       "      <td>...</td>\n",
       "      <td>0</td>\n",
       "      <td>not_exist</td>\n",
       "      <td>not_exist</td>\n",
       "      <td>not_exist</td>\n",
       "      <td>0</td>\n",
       "      <td>5</td>\n",
       "      <td>2007</td>\n",
       "      <td>WD</td>\n",
       "      <td>Normal</td>\n",
       "      <td>181500</td>\n",
       "    </tr>\n",
       "    <tr>\n",
       "      <th>2</th>\n",
       "      <td>3</td>\n",
       "      <td>60</td>\n",
       "      <td>RL</td>\n",
       "      <td>68.0</td>\n",
       "      <td>11250</td>\n",
       "      <td>Pave</td>\n",
       "      <td>not_exist</td>\n",
       "      <td>IR1</td>\n",
       "      <td>Lvl</td>\n",
       "      <td>AllPub</td>\n",
       "      <td>...</td>\n",
       "      <td>0</td>\n",
       "      <td>not_exist</td>\n",
       "      <td>not_exist</td>\n",
       "      <td>not_exist</td>\n",
       "      <td>0</td>\n",
       "      <td>9</td>\n",
       "      <td>2008</td>\n",
       "      <td>WD</td>\n",
       "      <td>Normal</td>\n",
       "      <td>223500</td>\n",
       "    </tr>\n",
       "    <tr>\n",
       "      <th>3</th>\n",
       "      <td>4</td>\n",
       "      <td>70</td>\n",
       "      <td>RL</td>\n",
       "      <td>60.0</td>\n",
       "      <td>9550</td>\n",
       "      <td>Pave</td>\n",
       "      <td>not_exist</td>\n",
       "      <td>IR1</td>\n",
       "      <td>Lvl</td>\n",
       "      <td>AllPub</td>\n",
       "      <td>...</td>\n",
       "      <td>0</td>\n",
       "      <td>not_exist</td>\n",
       "      <td>not_exist</td>\n",
       "      <td>not_exist</td>\n",
       "      <td>0</td>\n",
       "      <td>2</td>\n",
       "      <td>2006</td>\n",
       "      <td>WD</td>\n",
       "      <td>Abnorml</td>\n",
       "      <td>140000</td>\n",
       "    </tr>\n",
       "    <tr>\n",
       "      <th>4</th>\n",
       "      <td>5</td>\n",
       "      <td>60</td>\n",
       "      <td>RL</td>\n",
       "      <td>84.0</td>\n",
       "      <td>14260</td>\n",
       "      <td>Pave</td>\n",
       "      <td>not_exist</td>\n",
       "      <td>IR1</td>\n",
       "      <td>Lvl</td>\n",
       "      <td>AllPub</td>\n",
       "      <td>...</td>\n",
       "      <td>0</td>\n",
       "      <td>not_exist</td>\n",
       "      <td>not_exist</td>\n",
       "      <td>not_exist</td>\n",
       "      <td>0</td>\n",
       "      <td>12</td>\n",
       "      <td>2008</td>\n",
       "      <td>WD</td>\n",
       "      <td>Normal</td>\n",
       "      <td>250000</td>\n",
       "    </tr>\n",
       "    <tr>\n",
       "      <th>...</th>\n",
       "      <td>...</td>\n",
       "      <td>...</td>\n",
       "      <td>...</td>\n",
       "      <td>...</td>\n",
       "      <td>...</td>\n",
       "      <td>...</td>\n",
       "      <td>...</td>\n",
       "      <td>...</td>\n",
       "      <td>...</td>\n",
       "      <td>...</td>\n",
       "      <td>...</td>\n",
       "      <td>...</td>\n",
       "      <td>...</td>\n",
       "      <td>...</td>\n",
       "      <td>...</td>\n",
       "      <td>...</td>\n",
       "      <td>...</td>\n",
       "      <td>...</td>\n",
       "      <td>...</td>\n",
       "      <td>...</td>\n",
       "      <td>...</td>\n",
       "    </tr>\n",
       "    <tr>\n",
       "      <th>1374</th>\n",
       "      <td>1456</td>\n",
       "      <td>60</td>\n",
       "      <td>RL</td>\n",
       "      <td>62.0</td>\n",
       "      <td>7917</td>\n",
       "      <td>Pave</td>\n",
       "      <td>not_exist</td>\n",
       "      <td>Reg</td>\n",
       "      <td>Lvl</td>\n",
       "      <td>AllPub</td>\n",
       "      <td>...</td>\n",
       "      <td>0</td>\n",
       "      <td>not_exist</td>\n",
       "      <td>not_exist</td>\n",
       "      <td>not_exist</td>\n",
       "      <td>0</td>\n",
       "      <td>8</td>\n",
       "      <td>2007</td>\n",
       "      <td>WD</td>\n",
       "      <td>Normal</td>\n",
       "      <td>175000</td>\n",
       "    </tr>\n",
       "    <tr>\n",
       "      <th>1375</th>\n",
       "      <td>1457</td>\n",
       "      <td>20</td>\n",
       "      <td>RL</td>\n",
       "      <td>85.0</td>\n",
       "      <td>13175</td>\n",
       "      <td>Pave</td>\n",
       "      <td>not_exist</td>\n",
       "      <td>Reg</td>\n",
       "      <td>Lvl</td>\n",
       "      <td>AllPub</td>\n",
       "      <td>...</td>\n",
       "      <td>0</td>\n",
       "      <td>not_exist</td>\n",
       "      <td>MnPrv</td>\n",
       "      <td>not_exist</td>\n",
       "      <td>0</td>\n",
       "      <td>2</td>\n",
       "      <td>2010</td>\n",
       "      <td>WD</td>\n",
       "      <td>Normal</td>\n",
       "      <td>210000</td>\n",
       "    </tr>\n",
       "    <tr>\n",
       "      <th>1376</th>\n",
       "      <td>1458</td>\n",
       "      <td>70</td>\n",
       "      <td>RL</td>\n",
       "      <td>66.0</td>\n",
       "      <td>9042</td>\n",
       "      <td>Pave</td>\n",
       "      <td>not_exist</td>\n",
       "      <td>Reg</td>\n",
       "      <td>Lvl</td>\n",
       "      <td>AllPub</td>\n",
       "      <td>...</td>\n",
       "      <td>0</td>\n",
       "      <td>not_exist</td>\n",
       "      <td>GdPrv</td>\n",
       "      <td>Shed</td>\n",
       "      <td>2500</td>\n",
       "      <td>5</td>\n",
       "      <td>2010</td>\n",
       "      <td>WD</td>\n",
       "      <td>Normal</td>\n",
       "      <td>266500</td>\n",
       "    </tr>\n",
       "    <tr>\n",
       "      <th>1377</th>\n",
       "      <td>1459</td>\n",
       "      <td>20</td>\n",
       "      <td>RL</td>\n",
       "      <td>68.0</td>\n",
       "      <td>9717</td>\n",
       "      <td>Pave</td>\n",
       "      <td>not_exist</td>\n",
       "      <td>Reg</td>\n",
       "      <td>Lvl</td>\n",
       "      <td>AllPub</td>\n",
       "      <td>...</td>\n",
       "      <td>0</td>\n",
       "      <td>not_exist</td>\n",
       "      <td>not_exist</td>\n",
       "      <td>not_exist</td>\n",
       "      <td>0</td>\n",
       "      <td>4</td>\n",
       "      <td>2010</td>\n",
       "      <td>WD</td>\n",
       "      <td>Normal</td>\n",
       "      <td>142125</td>\n",
       "    </tr>\n",
       "    <tr>\n",
       "      <th>1378</th>\n",
       "      <td>1460</td>\n",
       "      <td>20</td>\n",
       "      <td>RL</td>\n",
       "      <td>75.0</td>\n",
       "      <td>9937</td>\n",
       "      <td>Pave</td>\n",
       "      <td>not_exist</td>\n",
       "      <td>Reg</td>\n",
       "      <td>Lvl</td>\n",
       "      <td>AllPub</td>\n",
       "      <td>...</td>\n",
       "      <td>0</td>\n",
       "      <td>not_exist</td>\n",
       "      <td>not_exist</td>\n",
       "      <td>not_exist</td>\n",
       "      <td>0</td>\n",
       "      <td>6</td>\n",
       "      <td>2008</td>\n",
       "      <td>WD</td>\n",
       "      <td>Normal</td>\n",
       "      <td>147500</td>\n",
       "    </tr>\n",
       "  </tbody>\n",
       "</table>\n",
       "<p>1379 rows × 81 columns</p>\n",
       "</div>"
      ],
      "text/plain": [
       "        Id  MSSubClass MSZoning  LotFrontage  LotArea Street      Alley  \\\n",
       "0        1          60       RL         65.0     8450   Pave  not_exist   \n",
       "1        2          20       RL         80.0     9600   Pave  not_exist   \n",
       "2        3          60       RL         68.0    11250   Pave  not_exist   \n",
       "3        4          70       RL         60.0     9550   Pave  not_exist   \n",
       "4        5          60       RL         84.0    14260   Pave  not_exist   \n",
       "...    ...         ...      ...          ...      ...    ...        ...   \n",
       "1374  1456          60       RL         62.0     7917   Pave  not_exist   \n",
       "1375  1457          20       RL         85.0    13175   Pave  not_exist   \n",
       "1376  1458          70       RL         66.0     9042   Pave  not_exist   \n",
       "1377  1459          20       RL         68.0     9717   Pave  not_exist   \n",
       "1378  1460          20       RL         75.0     9937   Pave  not_exist   \n",
       "\n",
       "     LotShape LandContour Utilities  ... PoolArea     PoolQC      Fence  \\\n",
       "0         Reg         Lvl    AllPub  ...        0  not_exist  not_exist   \n",
       "1         Reg         Lvl    AllPub  ...        0  not_exist  not_exist   \n",
       "2         IR1         Lvl    AllPub  ...        0  not_exist  not_exist   \n",
       "3         IR1         Lvl    AllPub  ...        0  not_exist  not_exist   \n",
       "4         IR1         Lvl    AllPub  ...        0  not_exist  not_exist   \n",
       "...       ...         ...       ...  ...      ...        ...        ...   \n",
       "1374      Reg         Lvl    AllPub  ...        0  not_exist  not_exist   \n",
       "1375      Reg         Lvl    AllPub  ...        0  not_exist      MnPrv   \n",
       "1376      Reg         Lvl    AllPub  ...        0  not_exist      GdPrv   \n",
       "1377      Reg         Lvl    AllPub  ...        0  not_exist  not_exist   \n",
       "1378      Reg         Lvl    AllPub  ...        0  not_exist  not_exist   \n",
       "\n",
       "     MiscFeature MiscVal MoSold YrSold  SaleType  SaleCondition  SalePrice  \n",
       "0      not_exist       0      2   2008        WD         Normal     208500  \n",
       "1      not_exist       0      5   2007        WD         Normal     181500  \n",
       "2      not_exist       0      9   2008        WD         Normal     223500  \n",
       "3      not_exist       0      2   2006        WD        Abnorml     140000  \n",
       "4      not_exist       0     12   2008        WD         Normal     250000  \n",
       "...          ...     ...    ...    ...       ...            ...        ...  \n",
       "1374   not_exist       0      8   2007        WD         Normal     175000  \n",
       "1375   not_exist       0      2   2010        WD         Normal     210000  \n",
       "1376        Shed    2500      5   2010        WD         Normal     266500  \n",
       "1377   not_exist       0      4   2010        WD         Normal     142125  \n",
       "1378   not_exist       0      6   2008        WD         Normal     147500  \n",
       "\n",
       "[1379 rows x 81 columns]"
      ]
     },
     "execution_count": 169,
     "metadata": {},
     "output_type": "execute_result"
    }
   ],
   "source": [
    "# merge the handled missing value dataframe with original one\n",
    "train_merged = pd.merge(train, train_handled, how=\"right\").copy()\n",
    "train_merged"
   ]
  },
  {
   "cell_type": "markdown",
   "metadata": {},
   "source": [
    "check again NA in dataframe, there should only real missing value columns left"
   ]
  },
  {
   "cell_type": "code",
   "execution_count": 170,
   "metadata": {},
   "outputs": [
    {
     "data": {
      "text/html": [
       "<div>\n",
       "<style scoped>\n",
       "    .dataframe tbody tr th:only-of-type {\n",
       "        vertical-align: middle;\n",
       "    }\n",
       "\n",
       "    .dataframe tbody tr th {\n",
       "        vertical-align: top;\n",
       "    }\n",
       "\n",
       "    .dataframe thead th {\n",
       "        text-align: right;\n",
       "    }\n",
       "</style>\n",
       "<table border=\"1\" class=\"dataframe\">\n",
       "  <thead>\n",
       "    <tr style=\"text-align: right;\">\n",
       "      <th></th>\n",
       "      <th>NaN_count</th>\n",
       "      <th>NaN_percentage</th>\n",
       "    </tr>\n",
       "  </thead>\n",
       "  <tbody>\n",
       "    <tr>\n",
       "      <th>LotFrontage</th>\n",
       "      <td>252</td>\n",
       "      <td>0.172603</td>\n",
       "    </tr>\n",
       "    <tr>\n",
       "      <th>Electrical</th>\n",
       "      <td>1</td>\n",
       "      <td>0.000685</td>\n",
       "    </tr>\n",
       "  </tbody>\n",
       "</table>\n",
       "</div>"
      ],
      "text/plain": [
       "             NaN_count  NaN_percentage\n",
       "LotFrontage        252        0.172603\n",
       "Electrical           1        0.000685"
      ]
     },
     "execution_count": 170,
     "metadata": {},
     "output_type": "execute_result"
    }
   ],
   "source": [
    "# sum all missing value in dataset and keep only columns with missing value > 0\n",
    "missing = train_merged.isnull().sum()[train_merged.isnull().sum() > 0]\n",
    "\n",
    "# construct a dataframe consists of NaN count and NaN percentage from the dataset\n",
    "missing_train = pd.DataFrame({'NaN_count': missing, 'NaN_percentage': missing / len(train)}).sort_values(by = 'NaN_percentage', ascending = False)\n",
    "\n",
    "# print the missing value information\n",
    "missing_train"
   ]
  },
  {
   "cell_type": "markdown",
   "metadata": {},
   "source": [
    "**only real missing value left!**"
   ]
  },
  {
   "cell_type": "markdown",
   "metadata": {},
   "source": [
    "#### Handling real missing value"
   ]
  },
  {
   "cell_type": "markdown",
   "metadata": {},
   "source": [
    "in order to choose right imputation method. we need to analyze some of the feature intrinsic information, such as:\n",
    "* feature mean,\n",
    "* feature median,\n",
    "* feature data shape,"
   ]
  },
  {
   "cell_type": "markdown",
   "metadata": {},
   "source": [
    "**LotFrontage**"
   ]
  },
  {
   "cell_type": "code",
   "execution_count": 171,
   "metadata": {},
   "outputs": [
    {
     "data": {
      "text/plain": [
       "count    1127.000000\n",
       "mean       70.683230\n",
       "std        24.261598\n",
       "min        21.000000\n",
       "25%        60.000000\n",
       "50%        70.000000\n",
       "75%        80.000000\n",
       "max       313.000000\n",
       "Name: LotFrontage, dtype: float64"
      ]
     },
     "execution_count": 171,
     "metadata": {},
     "output_type": "execute_result"
    }
   ],
   "source": [
    "# descriptive statistics of LotFrontage\n",
    "train_merged.LotFrontage.describe()"
   ]
  },
  {
   "cell_type": "markdown",
   "metadata": {},
   "source": [
    "we can see that the distribution of data is quiet good."
   ]
  },
  {
   "cell_type": "code",
   "execution_count": 172,
   "metadata": {},
   "outputs": [
    {
     "data": {
      "image/png": "[encoded data removed]",
      "text/plain": [
       "<Figure size 500x400 with 1 Axes>"
      ]
     },
     "metadata": {},
     "output_type": "display_data"
    }
   ],
   "source": [
    "# set pyplote figure, and define the pre-defined size\n",
    "plt.figure(figsize=(5,4))\n",
    "\n",
    "# plot seaborn kdeplot for LotFrontage\n",
    "sns.kdeplot(data=train_merged, x=\"LotFrontage\")\n",
    "\n",
    "# draw vertical line to describe the mean value\n",
    "plt.axvline(x=train_merged.LotFrontage.mean(), color=\"r\", linestyle=\"--\", label=\"mean\")\n",
    "\n",
    "# draw vertical line to describe the median value\n",
    "plt.axvline(x=train_merged.LotFrontage.median(), color=\"g\", linestyle=\"-.\", label=\"median\")\n",
    "\n",
    "# show the legend\n",
    "plt.legend()\n",
    "\n",
    "# show the whole graph\n",
    "plt.show()"
   ]
  },
  {
   "cell_type": "markdown",
   "metadata": {},
   "source": [
    "we can see that the median and the mean value is quiet near. But as the distribution is quiete skew to the right, we use **median** for the imputation of **LotFrontage** so that it could be robust to skewness"
   ]
  },
  {
   "cell_type": "markdown",
   "metadata": {},
   "source": [
    "**Imputing Missing Value for LotFrontage** "
   ]
  },
  {
   "cell_type": "code",
   "execution_count": 173,
   "metadata": {},
   "outputs": [],
   "source": [
    "# fill missing value using median value\n",
    "train_merged[\"LotFrontage\"] = train_merged[\"LotFrontage\"].fillna(train_merged.LotFrontage.median())"
   ]
  },
  {
   "cell_type": "code",
   "execution_count": 174,
   "metadata": {},
   "outputs": [
    {
     "data": {
      "text/html": [
       "<div>\n",
       "<style scoped>\n",
       "    .dataframe tbody tr th:only-of-type {\n",
       "        vertical-align: middle;\n",
       "    }\n",
       "\n",
       "    .dataframe tbody tr th {\n",
       "        vertical-align: top;\n",
       "    }\n",
       "\n",
       "    .dataframe thead th {\n",
       "        text-align: right;\n",
       "    }\n",
       "</style>\n",
       "<table border=\"1\" class=\"dataframe\">\n",
       "  <thead>\n",
       "    <tr style=\"text-align: right;\">\n",
       "      <th></th>\n",
       "      <th>NaN_count</th>\n",
       "      <th>NaN_percentage</th>\n",
       "    </tr>\n",
       "  </thead>\n",
       "  <tbody>\n",
       "    <tr>\n",
       "      <th>Electrical</th>\n",
       "      <td>1</td>\n",
       "      <td>0.000685</td>\n",
       "    </tr>\n",
       "  </tbody>\n",
       "</table>\n",
       "</div>"
      ],
      "text/plain": [
       "            NaN_count  NaN_percentage\n",
       "Electrical          1        0.000685"
      ]
     },
     "execution_count": 174,
     "metadata": {},
     "output_type": "execute_result"
    }
   ],
   "source": [
    "# sum all missing value in dataset and keep only columns with missing value > 0\n",
    "missing = train_merged.isnull().sum()[train_merged.isnull().sum() > 0]\n",
    "\n",
    "# construct a dataframe consists of NaN count and NaN percentage from the dataset\n",
    "missing_train = pd.DataFrame({'NaN_count': missing, 'NaN_percentage': missing / len(train)}).sort_values(by = 'NaN_percentage', ascending = False)\n",
    "\n",
    "# print the missing value information\n",
    "missing_train"
   ]
  },
  {
   "cell_type": "markdown",
   "metadata": {},
   "source": [
    "**Missing value imputation successful!**"
   ]
  },
  {
   "cell_type": "markdown",
   "metadata": {},
   "source": [
    "next, as missing value in Electrical is only one observation. Then, we consider this as too small so we handle this by removing the observation that contain NA value."
   ]
  },
  {
   "cell_type": "markdown",
   "metadata": {},
   "source": [
    "**Drop NA in Electrical**"
   ]
  },
  {
   "cell_type": "code",
   "execution_count": 175,
   "metadata": {},
   "outputs": [],
   "source": [
    "train_merged.dropna(subset=[\"Electrical\"], inplace=True)"
   ]
  },
  {
   "cell_type": "code",
   "execution_count": 176,
   "metadata": {},
   "outputs": [
    {
     "data": {
      "text/html": [
       "<div>\n",
       "<style scoped>\n",
       "    .dataframe tbody tr th:only-of-type {\n",
       "        vertical-align: middle;\n",
       "    }\n",
       "\n",
       "    .dataframe tbody tr th {\n",
       "        vertical-align: top;\n",
       "    }\n",
       "\n",
       "    .dataframe thead th {\n",
       "        text-align: right;\n",
       "    }\n",
       "</style>\n",
       "<table border=\"1\" class=\"dataframe\">\n",
       "  <thead>\n",
       "    <tr style=\"text-align: right;\">\n",
       "      <th></th>\n",
       "      <th>NaN_count</th>\n",
       "      <th>NaN_percentage</th>\n",
       "    </tr>\n",
       "  </thead>\n",
       "  <tbody>\n",
       "  </tbody>\n",
       "</table>\n",
       "</div>"
      ],
      "text/plain": [
       "Empty DataFrame\n",
       "Columns: [NaN_count, NaN_percentage]\n",
       "Index: []"
      ]
     },
     "execution_count": 176,
     "metadata": {},
     "output_type": "execute_result"
    }
   ],
   "source": [
    "# sum all missing value in dataset and keep only columns with missing value > 0\n",
    "missing = train_merged.isnull().sum()[train_merged.isnull().sum() > 0]\n",
    "\n",
    "# construct a dataframe consists of NaN count and NaN percentage from the dataset\n",
    "missing_train = pd.DataFrame({'NaN_count': missing, 'NaN_percentage': missing / len(train)}).sort_values(by = 'NaN_percentage', ascending = False)\n",
    "\n",
    "# print the missin\n",
    "missing_train"
   ]
  },
  {
   "cell_type": "markdown",
   "metadata": {},
   "source": [
    "**as we can see, no missing value left in our training dataset. Hence, missing value handling step is complete!**"
   ]
  },
  {
   "cell_type": "markdown",
   "metadata": {},
   "source": [
    "## Detect and Handle Outlier"
   ]
  },
  {
   "cell_type": "markdown",
   "metadata": {},
   "source": [
    "Terkait outlier, terdapat dua task yang tidak dapat dipisahkan yakni:\n",
    "* Outlier Detection, dan\n",
    "* Outlier Handling\n",
    "\n",
    "kedua task tersebut memiliki metode nya masing-masing."
   ]
  },
  {
   "cell_type": "markdown",
   "metadata": {},
   "source": [
    "untuk **Outlier Detection** kita bisa memilih menggunakan berbagai metode yakni:\n",
    "* IQR Filter (quantitative)\n",
    "* Z-Score Filter (quantitative)\n",
    "* Box-Plot (qualitative)\n"
   ]
  },
  {
   "cell_type": "markdown",
   "metadata": {},
   "source": [
    "setelah mendapatkan observasi-observasi yang dianggap *outlier*, selanjutnya melakukan **Outlier Handling** menggunakan salah satu dari metode berikut:\n",
    "* Trimming/removing outlier --> Membuang baris yang mengandung nilai outlier\n",
    "* Quantile based flooring and capping --> Membulatkan nilai yang dianggap outlier menjadi nilai kuantil 10 atau kuantil 90\n",
    "* Mean/median imputation --> Mengganti nilai outlier dengan mean/median dari kolom tempat outlier berada\n",
    "\n",
    "further readings: [AnalyticsVidhya](https://www.analyticsvidhya.com/blog/2021/05/detecting-and-treating-outliers-treating-the-odd-one-out/)"
   ]
  },
  {
   "cell_type": "markdown",
   "metadata": {},
   "source": [
    "### Mendeteksi outlier menggunakan Box-Plot"
   ]
  },
  {
   "cell_type": "code",
   "execution_count": 184,
   "metadata": {},
   "outputs": [],
   "source": [
    "# select only numeric columns\n",
    "colnames = int_columns+float_columns\n",
    "\n",
    "# reset index\n",
    "train_merged.reset_index(drop=True, inplace=True)"
   ]
  },
  {
   "cell_type": "code",
   "execution_count": 187,
   "metadata": {},
   "outputs": [
    {
     "name": "stdout",
     "output_type": "stream",
     "text": [
      "11\n"
     ]
    }
   ],
   "source": [
    "# minimal subplot rows to make if we want 3 columns\n",
    "import math\n",
    "print(math.ceil(len(colnames)/3))"
   ]
  },
  {
   "cell_type": "code",
   "execution_count": 197,
   "metadata": {},
   "outputs": [
    {
     "data": {
      "image/png": "[encoded data removed]",
      "text/plain": [
       "<Figure size 1200x4000 with 33 Axes>"
      ]
     },
     "metadata": {},
     "output_type": "display_data"
    }
   ],
   "source": [
    "# create subplots with 11x3 grids and size 12x30\n",
    "fig, ax = plt.subplots(11, 3, figsize=(12,40))\n",
    "\n",
    "# counter to select colnames\n",
    "cnt = 0\n",
    "\n",
    "# loop through the grids\n",
    "for i in range(11):\n",
    "\n",
    "    if cnt >= 31:\n",
    "            break\n",
    "\n",
    "    for j in range(3):\n",
    "\n",
    "        if cnt >= 31:\n",
    "            break\n",
    "        \n",
    "        # we use boxplot from pyplot\n",
    "        ax[i, j].boxplot(train_merged[colnames[cnt]], vert=False)\n",
    "        ax[i, j].set_title(str(colnames[cnt]), fontdict={'fontsize':12})\n",
    "\n",
    "        # increment counter\n",
    "        cnt = cnt+1\n",
    "\n",
    "# make sure layout is not overlapping\n",
    "fig.tight_layout()\n",
    "# show the graphs\n",
    "fig.show()"
   ]
  },
  {
   "cell_type": "markdown",
   "metadata": {},
   "source": [
    "from boxplots above, we have extracted some useful informations such as:\n",
    "* some columns seem to have outliers but actually it's just the range of the data (such as in ordinal). hence we may not treat as outlier\n",
    "* "
   ]
  },
  {
   "cell_type": "markdown",
   "metadata": {},
   "source": [
    "from boxplots above, we can only infer that there are outliers in some columns. But, in order to get the exact location of the outler we are going to use **IQR filter**"
   ]
  },
  {
   "cell_type": "markdown",
   "metadata": {},
   "source": [
    "### Mendeteksi outlier menggunakan IQR Filter"
   ]
  },
  {
   "cell_type": "code",
   "execution_count": 276,
   "metadata": {},
   "outputs": [],
   "source": [
    "# function to detect outlier using IQR\n",
    "def detect_outliers_iqr(data):\n",
    "\n",
    "    outliers = []\n",
    "    data = sorted(data)\n",
    "    q1 = np.percentile(data, 25)\n",
    "    q3 = np.percentile(data, 75)\n",
    "    IQR = q3-q1\n",
    "    lwr_bound = q1-(1.5*IQR)\n",
    "    upr_bound = q3+(1.5*IQR)\n",
    "    print(\"lower:\",lwr_bound, \"upper:\", upr_bound)\n",
    "    for i in data:\n",
    "\n",
    "        if (i<lwr_bound or i>upr_bound):\n",
    "            outliers.append(i)\n",
    "\n",
    "    return outliers"
   ]
  },
  {
   "cell_type": "code",
   "execution_count": 277,
   "metadata": {},
   "outputs": [
    {
     "name": "stdout",
     "output_type": "stream",
     "text": [
      "lower: 2.0 upper: 10.0\n",
      "number of outliers in column OverallQual is 0\n",
      "\n",
      "lower: 3.5 upper: 7.5\n",
      "number of outliers in column OverallCond is 110\n",
      "\n",
      "lower: -1.5 upper: 2.5\n",
      "number of outliers in column BsmtFullBath is 0\n",
      "\n",
      "lower: 0.0 upper: 0.0\n",
      "number of outliers in column BsmtHalfBath is 80\n",
      "\n",
      "lower: -0.5 upper: 3.5\n",
      "number of outliers in column FullBath is 0\n",
      "\n",
      "lower: -1.5 upper: 2.5\n",
      "number of outliers in column HalfBath is 0\n",
      "\n",
      "lower: 0.5 upper: 4.5\n",
      "number of outliers in column BedroomAbvGr is 29\n",
      "\n",
      "lower: 1.0 upper: 1.0\n",
      "number of outliers in column KitchenAbvGr is 52\n",
      "\n",
      "lower: 2.0 upper: 10.0\n",
      "number of outliers in column TotRmsAbvGrd is 28\n",
      "\n",
      "lower: -1.5 upper: 2.5\n",
      "number of outliers in column Fireplaces is 5\n",
      "\n",
      "lower: -0.5 upper: 3.5\n",
      "number of outliers in column GarageCars is 5\n",
      "\n",
      "lower: 8187.5 upper: 343687.5\n",
      "number of outliers in column SalePrice is 59\n",
      "\n",
      "lower: 31.5 upper: 107.5\n",
      "number of outliers in column LotFrontage is 98\n",
      "\n",
      "lower: 1782.125 upper: 17671.125\n",
      "number of outliers in column LotArea is 79\n",
      "\n",
      "lower: -256.125 upper: 426.875\n",
      "number of outliers in column MasVnrArea is 86\n",
      "\n",
      "lower: -1098.0 upper: 1830.0\n",
      "number of outliers in column BsmtFinSF1 is 6\n",
      "\n",
      "lower: 0.0 upper: 0.0\n",
      "number of outliers in column BsmtFinSF2 is 163\n",
      "\n",
      "lower: -647.75 upper: 1686.25\n",
      "number of outliers in column BsmtUnfSF is 26\n",
      "\n",
      "lower: 54.625 upper: 2069.625\n",
      "number of outliers in column TotalBsmtSF is 54\n",
      "\n",
      "lower: 114.0 upper: 2194.0\n",
      "number of outliers in column 1stFlrSF is 18\n",
      "\n",
      "lower: -1108.125 upper: 1846.875\n",
      "number of outliers in column 2ndFlrSF is 2\n",
      "\n",
      "lower: 0.0 upper: 0.0\n",
      "number of outliers in column LowQualFinSF is 19\n",
      "\n",
      "lower: 200.0 upper: 2744.0\n",
      "number of outliers in column GrLivArea is 29\n",
      "\n",
      "lower: 78.5 upper: 882.5\n",
      "number of outliers in column GarageArea is 46\n",
      "\n",
      "lower: -256.5 upper: 427.5\n",
      "number of outliers in column WoodDeckSF is 30\n",
      "\n",
      "lower: -104.625 upper: 174.375\n",
      "number of outliers in column OpenPorchSF is 68\n",
      "\n",
      "lower: 0.0 upper: 0.0\n",
      "number of outliers in column EnclosedPorch is 186\n",
      "\n",
      "lower: 0.0 upper: 0.0\n",
      "number of outliers in column 3SsnPorch is 24\n",
      "\n",
      "lower: 0.0 upper: 0.0\n",
      "number of outliers in column ScreenPorch is 116\n",
      "\n",
      "lower: 0.0 upper: 0.0\n",
      "number of outliers in column PoolArea is 7\n",
      "\n",
      "lower: 0.0 upper: 0.0\n",
      "number of outliers in column MiscVal is 49\n",
      "\n"
     ]
    }
   ],
   "source": [
    "for i in int_columns+float_columns:\n",
    "\n",
    "    outlier = detect_outliers_iqr(train_merged[i])\n",
    "\n",
    "    print(\"number of outliers in column\", str(i), \"is\", len(outlier))\n",
    "    print()"
   ]
  },
  {
   "cell_type": "code",
   "execution_count": null,
   "metadata": {},
   "outputs": [],
   "source": []
  }
 ],
 "metadata": {
  "kernelspec": {
   "display_name": "Python 3.10.6 ('venv': venv)",
   "language": "python",
   "name": "python3"
  },
  "language_info": {
   "codemirror_mode": {
    "name": "ipython",
    "version": 3
   },
   "file_extension": ".py",
   "mimetype": "text/x-python",
   "name": "python",
   "nbconvert_exporter": "python",
   "pygments_lexer": "ipython3",
   "version": "3.10.6"
  },
  "orig_nbformat": 4,
  "vscode": {
   "interpreter": {
    "hash": "08da0e7fe91840cd66bf2873a8a676b9ce331417839ad7f31f453146074894ae"
   }
  }
 },
 "nbformat": 4,
 "nbformat_minor": 2
}
